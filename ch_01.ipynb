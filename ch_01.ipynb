{
 "cells": [
  {
   "cell_type": "code",
   "execution_count": null,
   "id": "3b93588a-94bd-4ed2-8880-2dfb7c160289",
   "metadata": {},
   "outputs": [],
   "source": [
    "from fastai.vision.all import *\n",
    "\n",
    "path = untar_data(URLs.PETS)/'images'\n",
    "images = get_image_files(path)\n",
    "img = PILImage.create(images[0])\n",
    "img.show()\n",
    "\n",
    "def is_cat(x): return x[0].isupper() # label cats bsaed on filename rule providede by the dataset's creator\n",
    "dls = ImageDataLoaders.from_name_func(path,\n",
    "    get_image_files(path),\n",
    "    valid_pct=0.2, # hold 20% of data and do not use it for training, VALIDATION SET\n",
    "    seed=42,\n",
    "    label_func=is_cat,\n",
    "    item_tfms=Resize(224)) # item_tfms --> TRANSFORM, this one is applied to each item\n",
    "\n",
    "learn = vision_learner(dls, resnet34, metrics=error_rate)\n",
    "# resnet - architecture ResNet. 34 refers to the number of layers in this variant of the architecture\n",
    "# METRIC - function that measures quality of the model's predictions using validation set\n",
    "# error_rate - function provided by fastai which tells us percentage of the images that are being classified incorrectly\n",
    "# Pretrained models -> Transfer learning\n",
    "\n",
    "learn.fine_tune(1)\n",
    "\n"
   ]
  },
  {
   "cell_type": "code",
   "execution_count": null,
   "id": "e17e1f20-e581-4aa0-b965-1af9500ef430",
   "metadata": {},
   "outputs": [],
   "source": [
    "from fastai.vision.all import *\n",
    "import ipywidgets as widgets\n",
    "\n",
    "btn_upload = widgets.FileUpload()\n",
    "def on_upload_change(change):\n",
    "    img = PILImage.create(btn_upload.value[0].content.tobytes())\n",
    "    is_cat,_,probs=learn.predict(img)\n",
    "    print(f\"Is this a cat? {is_cat}\")\n",
    "    print(f\"Probability it's a cat: {probs[1].item():.6f}\")\n",
    "\n",
    "btn_upload.observe(on_upload_change, names=\"value\")\n",
    "display(btn_upload)"
   ]
  },
  {
   "cell_type": "code",
   "execution_count": null,
   "id": "a602359d-b2eb-43b1-b983-407d3928f569",
   "metadata": {},
   "outputs": [],
   "source": [
    "# %reset -f\n",
    "from fastai.vision.all import *\n",
    "\n",
    "path = untar_data(URLs.CAMVID_TINY)\n",
    "print(path)\n",
    "dls = SegmentationDataLoaders.from_label_func(\n",
    "    path, \n",
    "    bs=8, \n",
    "    fnames= get_image_files(path/\"images\"),\n",
    "        label_func=lambda o: path/'labels' /f'{o.stem}_P{o.suffix}',\n",
    "        codes = np.loadtxt(path/'codes.txt', dtype=str)\n",
    "    )\n",
    "learn = unet_learner(dls, resnet34)\n",
    "learn.fine_tune(8)"
   ]
  },
  {
   "cell_type": "code",
   "execution_count": null,
   "id": "dd460ec5",
   "metadata": {},
   "outputs": [],
   "source": [
    "learn.show_results(max_n=6, figsize=(7,8))"
   ]
  },
  {
   "cell_type": "code",
   "execution_count": null,
   "id": "8908061f",
   "metadata": {},
   "outputs": [],
   "source": [
    "# Fix CUDA out of memory\n",
    "import torch\n",
    "import gc\n",
    "import os\n",
    "torch.cuda.empty_cache()\n",
    "gc.collect()\n",
    "print(torch.cuda.memory_summary(device=None, abbreviated=False))\n",
    "os.environ[\"PYTORCH_CUDA_ALLOC_CONF\"] = \"max_split_size_mb:1024\"\n"
   ]
  },
  {
   "cell_type": "code",
   "execution_count": null,
   "id": "041a76d5",
   "metadata": {},
   "outputs": [],
   "source": [
    "from fastai.text.all import *\n",
    "\n",
    "path = untar_data(URLs.IMDB)\n",
    "dls = TextDataLoaders.from_folder(path, bs=8, valid='test')\n",
    "learn = text_classifier_learner(dls, AWD_LSTM, drop_mult=0.5, metrics=accuracy)\n",
    "learn.fine_tune(2, 1e-2)\n",
    "learn.predict(\"I really did not like that movie\")"
   ]
  },
  {
   "cell_type": "code",
   "execution_count": null,
   "id": "8e121106",
   "metadata": {},
   "outputs": [],
   "source": [
    "doc(learn.predict)"
   ]
  },
  {
   "cell_type": "code",
   "execution_count": null,
   "id": "8e1feb87",
   "metadata": {},
   "outputs": [],
   "source": [
    "from fastai.tabular.all import *\n",
    "path = untar_data(URLs.ADULT_SAMPLE)\n",
    "\n",
    "dls = TabularDataLoaders.from_csv(\n",
    "    path/'adult.csv',\n",
    "    path=path,\n",
    "    y_names='salary',\n",
    "    cat_name=['workclass', '']\n",
    "    \n",
    "    )"
   ]
  }
 ],
 "metadata": {
  "kernelspec": {
   "display_name": "Python 3 (ipykernel)",
   "language": "python",
   "name": "python3"
  },
  "language_info": {
   "codemirror_mode": {
    "name": "ipython",
    "version": 3
   },
   "file_extension": ".py",
   "mimetype": "text/x-python",
   "name": "python",
   "nbconvert_exporter": "python",
   "pygments_lexer": "ipython3",
   "version": "3.11.5"
  }
 },
 "nbformat": 4,
 "nbformat_minor": 5
}
